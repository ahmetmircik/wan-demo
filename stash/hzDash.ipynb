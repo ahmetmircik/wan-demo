{
 "cells": [
  {
   "cell_type": "code",
   "execution_count": 13,
   "metadata": {
    "collapsed": false,
    "deletable": true,
    "editable": true,
    "extensions": {
     "jupyter_dashboards": {
      "version": 1,
      "views": {
       "grid_default": {
        "col": 0,
        "height": 4,
        "hidden": false,
        "row": 0,
        "width": 4
       },
       "report_default": {
        "hidden": false
       }
      }
     }
    }
   },
   "outputs": [
    {
     "data": {
      "text/html": [
       "\n",
       "    <div class=\"bk-root\">\n",
       "        <a href=\"http://bokeh.pydata.org\" target=\"_blank\" class=\"bk-logo bk-logo-small bk-logo-notebook\"></a>\n",
       "        <span id=\"6d5b14b8-e1bb-4667-9361-42591b502dce\">Loading BokehJS ...</span>\n",
       "    </div>"
      ]
     },
     "metadata": {},
     "output_type": "display_data"
    },
    {
     "data": {
      "application/javascript": [
       "\n",
       "(function(global) {\n",
       "  function now() {\n",
       "    return new Date();\n",
       "  }\n",
       "\n",
       "  var force = true;\n",
       "\n",
       "  if (typeof (window._bokeh_onload_callbacks) === \"undefined\" || force === true) {\n",
       "    window._bokeh_onload_callbacks = [];\n",
       "    window._bokeh_is_loading = undefined;\n",
       "  }\n",
       "\n",
       "\n",
       "  \n",
       "  if (typeof (window._bokeh_timeout) === \"undefined\" || force === true) {\n",
       "    window._bokeh_timeout = Date.now() + 5000;\n",
       "    window._bokeh_failed_load = false;\n",
       "  }\n",
       "\n",
       "  var NB_LOAD_WARNING = {'data': {'text/html':\n",
       "     \"<div style='background-color: #fdd'>\\n\"+\n",
       "     \"<p>\\n\"+\n",
       "     \"BokehJS does not appear to have successfully loaded. If loading BokehJS from CDN, this \\n\"+\n",
       "     \"may be due to a slow or bad network connection. Possible fixes:\\n\"+\n",
       "     \"</p>\\n\"+\n",
       "     \"<ul>\\n\"+\n",
       "     \"<li>re-rerun `output_notebook()` to attempt to load from CDN again, or</li>\\n\"+\n",
       "     \"<li>use INLINE resources instead, as so:</li>\\n\"+\n",
       "     \"</ul>\\n\"+\n",
       "     \"<code>\\n\"+\n",
       "     \"from bokeh.resources import INLINE\\n\"+\n",
       "     \"output_notebook(resources=INLINE)\\n\"+\n",
       "     \"</code>\\n\"+\n",
       "     \"</div>\"}};\n",
       "\n",
       "  function display_loaded() {\n",
       "    if (window.Bokeh !== undefined) {\n",
       "      document.getElementById(\"6d5b14b8-e1bb-4667-9361-42591b502dce\").textContent = \"BokehJS successfully loaded.\";\n",
       "    } else if (Date.now() < window._bokeh_timeout) {\n",
       "      setTimeout(display_loaded, 100)\n",
       "    }\n",
       "  }\n",
       "\n",
       "  function run_callbacks() {\n",
       "    window._bokeh_onload_callbacks.forEach(function(callback) { callback() });\n",
       "    delete window._bokeh_onload_callbacks\n",
       "    console.info(\"Bokeh: all callbacks have finished\");\n",
       "  }\n",
       "\n",
       "  function load_libs(js_urls, callback) {\n",
       "    window._bokeh_onload_callbacks.push(callback);\n",
       "    if (window._bokeh_is_loading > 0) {\n",
       "      console.log(\"Bokeh: BokehJS is being loaded, scheduling callback at\", now());\n",
       "      return null;\n",
       "    }\n",
       "    if (js_urls == null || js_urls.length === 0) {\n",
       "      run_callbacks();\n",
       "      return null;\n",
       "    }\n",
       "    console.log(\"Bokeh: BokehJS not loaded, scheduling load and callback at\", now());\n",
       "    window._bokeh_is_loading = js_urls.length;\n",
       "    for (var i = 0; i < js_urls.length; i++) {\n",
       "      var url = js_urls[i];\n",
       "      var s = document.createElement('script');\n",
       "      s.src = url;\n",
       "      s.async = false;\n",
       "      s.onreadystatechange = s.onload = function() {\n",
       "        window._bokeh_is_loading--;\n",
       "        if (window._bokeh_is_loading === 0) {\n",
       "          console.log(\"Bokeh: all BokehJS libraries loaded\");\n",
       "          run_callbacks()\n",
       "        }\n",
       "      };\n",
       "      s.onerror = function() {\n",
       "        console.warn(\"failed to load library \" + url);\n",
       "      };\n",
       "      console.log(\"Bokeh: injecting script tag for BokehJS library: \", url);\n",
       "      document.getElementsByTagName(\"head\")[0].appendChild(s);\n",
       "    }\n",
       "  };var element = document.getElementById(\"6d5b14b8-e1bb-4667-9361-42591b502dce\");\n",
       "  if (element == null) {\n",
       "    console.log(\"Bokeh: ERROR: autoload.js configured with elementid '6d5b14b8-e1bb-4667-9361-42591b502dce' but no matching script tag was found. \")\n",
       "    return false;\n",
       "  }\n",
       "\n",
       "  var js_urls = [\"https://cdn.pydata.org/bokeh/release/bokeh-0.12.4.min.js\", \"https://cdn.pydata.org/bokeh/release/bokeh-widgets-0.12.4.min.js\"];\n",
       "\n",
       "  var inline_js = [\n",
       "    function(Bokeh) {\n",
       "      Bokeh.set_log_level(\"info\");\n",
       "    },\n",
       "    \n",
       "    function(Bokeh) {\n",
       "      \n",
       "      document.getElementById(\"6d5b14b8-e1bb-4667-9361-42591b502dce\").textContent = \"BokehJS is loading...\";\n",
       "    },\n",
       "    function(Bokeh) {\n",
       "      console.log(\"Bokeh: injecting CSS: https://cdn.pydata.org/bokeh/release/bokeh-0.12.4.min.css\");\n",
       "      Bokeh.embed.inject_css(\"https://cdn.pydata.org/bokeh/release/bokeh-0.12.4.min.css\");\n",
       "      console.log(\"Bokeh: injecting CSS: https://cdn.pydata.org/bokeh/release/bokeh-widgets-0.12.4.min.css\");\n",
       "      Bokeh.embed.inject_css(\"https://cdn.pydata.org/bokeh/release/bokeh-widgets-0.12.4.min.css\");\n",
       "    }\n",
       "  ];\n",
       "\n",
       "  function run_inline_js() {\n",
       "    \n",
       "    if ((window.Bokeh !== undefined) || (force === true)) {\n",
       "      for (var i = 0; i < inline_js.length; i++) {\n",
       "        inline_js[i](window.Bokeh);\n",
       "      }if (force === true) {\n",
       "        display_loaded();\n",
       "      }} else if (Date.now() < window._bokeh_timeout) {\n",
       "      setTimeout(run_inline_js, 100);\n",
       "    } else if (!window._bokeh_failed_load) {\n",
       "      console.log(\"Bokeh: BokehJS failed to load within specified timeout.\");\n",
       "      window._bokeh_failed_load = true;\n",
       "    } else if (force !== true) {\n",
       "      var cell = $(document.getElementById(\"6d5b14b8-e1bb-4667-9361-42591b502dce\")).parents('.cell').data().cell;\n",
       "      cell.output_area.append_execute_result(NB_LOAD_WARNING)\n",
       "    }\n",
       "\n",
       "  }\n",
       "\n",
       "  if (window._bokeh_is_loading === 0) {\n",
       "    console.log(\"Bokeh: BokehJS loaded, going straight to plotting\");\n",
       "    run_inline_js();\n",
       "  } else {\n",
       "    load_libs(js_urls, function() {\n",
       "      console.log(\"Bokeh: BokehJS plotting callback run at\", now());\n",
       "      run_inline_js();\n",
       "    });\n",
       "  }\n",
       "}(this));"
      ]
     },
     "metadata": {},
     "output_type": "display_data"
    }
   ],
   "source": [
    "import os, re\n",
    "import pandas as pd\n",
    "import ipywidgets as widgets\n",
    "from collections import defaultdict\n",
    "\n",
    "from bokeh.io import push_notebook, show, output_notebook\n",
    "from bokeh.plotting import figure, ColumnDataSource\n",
    "from bokeh.plotting import figure\n",
    "from bokeh.charts import Bar\n",
    "from IPython.display import display, clear_output\n",
    "from IPython.display import clear_output\n",
    "\n",
    "from bokeh.models import HoverTool, BoxSelectTool\n",
    "from bokeh.layouts import row\n",
    "\n",
    "output_notebook()"
   ]
  },
  {
   "cell_type": "code",
   "execution_count": 14,
   "metadata": {
    "collapsed": false,
    "deletable": true,
    "editable": true,
    "extensions": {
     "jupyter_dashboards": {
      "version": 1,
      "views": {
       "grid_default": {
        "hidden": true
       },
       "report_default": {}
      }
     }
    }
   },
   "outputs": [],
   "source": [
    "\n",
    "class plotLineInfo(object):\n",
    "    \n",
    "    def __init__(self, baseDirs):\n",
    "        self.dirs = widgets.Dropdown(options=baseDirs, description='dir:', layout=widgets.Layout(width='1024px'))\n",
    "        self.csvs = widgets.Dropdown(options=self.setCsvFileChoice(), description='csv:', layout=widgets.Layout(width='1024px'))\n",
    "        self.color = widgets.ColorPicker(concise=False, description='color', value='blue')\n",
    "        self.dirs.observe(self.benchSelection)\n",
    "        display(self.dirs, self.csvs, self.color)   \n",
    "\n",
    "        \n",
    "    def benchSelection(self, change):\n",
    "        self.csvs.options=self.setCsvFileChoice()\n",
    "        \n",
    "        \n",
    "    def setCsvFileChoice(self):\n",
    "        csvFiles = set()\n",
    "        for dirpath, dirnames, filenames in os.walk( self.dirs.value ):\n",
    "            for fileName in filenames:\n",
    "                if fileName.endswith(\".csv\"):\n",
    "                    csvFiles.add(fileName)\n",
    "        return sorted(list(csvFiles))\n",
    "\n",
    "    \n",
    "    def getCsvFilePaths(self):\n",
    "        csvFiles = set()\n",
    "        for dirpath, dirnames, filenames in os.walk( self.dirs.value ):\n",
    "            for fileName in filenames:\n",
    "                if fileName.endswith(self.csvs.value):\n",
    "                    csvFiles.add(dirpath+\"/\"+fileName)\n",
    "        return sorted(list(csvFiles))\n",
    "\n",
    "    \n",
    "    def getDataFrames(self):\n",
    "        dataFrames=[]\n",
    "        for file in self.getCsvFilePaths():\n",
    "            dataFrames.append(pd.read_csv(file))\n",
    "        return dataFrames\n",
    "                \n",
    "        \n",
    "    def _ipython_display_(self, **kwargs):\n",
    "        self.widget._ipython_display_(**kwargs)\n",
    "\n"
   ]
  },
  {
   "cell_type": "code",
   "execution_count": 15,
   "metadata": {
    "collapsed": true,
    "deletable": true,
    "editable": true,
    "extensions": {
     "jupyter_dashboards": {
      "version": 1,
      "views": {
       "grid_default": {
        "hidden": true
       },
       "report_default": {}
      }
     }
    }
   },
   "outputs": [],
   "source": [
    "\n",
    "class PerfCharts(object):\n",
    "    \n",
    "    def __init__(self):\n",
    "        self.throughput = figure(title=\"throughput\", width = 1024, height = 300, tools=\"pan,wheel_zoom,box_zoom,reset,resize,previewsave\")    \n",
    "        self.latency = figure(title=\"latency\", width = 1024, height = 300, tools=\"pan,wheel_zoom,box_zoom,reset,resize,previewsave\")\n",
    "        self.count = figure(title=\"opp count\", width = 1024, height = 300, tools=\"pan,wheel_zoom,box_zoom,reset,resize,previewsave\")\n",
    "\n",
    "        self.throughput.xaxis.axis_label = \"time\"\n",
    "        self.throughput.yaxis.axis_label = \"opeartions/sec\"\n",
    "        self.throughput.yaxis.major_label_orientation = \"vertical\"\n",
    "\n",
    "        self.latency.xaxis.axis_label = \"time\"\n",
    "        self.latency.yaxis.axis_label = \"milliseconds\"\n",
    "        self.latency.yaxis.major_label_orientation = \"vertical\"\n",
    "        \n",
    "        self.count.xaxis.axis_label = \"time\"\n",
    "        self.count.yaxis.axis_label = \"op count\"\n",
    "        self.count.yaxis.major_label_orientation = \"vertical\"\n",
    "        \n",
    "        self.latency.add_tools(BoxSelectTool())\n",
    "        \n",
    "    def chart(self, plotInfo):\n",
    "        for f in plotInfo.getDataFrames():\n",
    "            f.reset_index(inplace = True)\n",
    "            \n",
    "            #self.throughput.line(source=f, x=f.columns[0], y=f.columns[14], line_color=plotInfo.color.value)   \n",
    "            #self.latency.line(source=f, x=f.columns[0], y=f.columns[11], line_color=plotInfo.color.value)\n",
    "            self.count.line(source=f, x=f.columns[0], y=f.columns[2], line_color=plotInfo.color.value)\n",
    "            \n",
    "    def show(self):\n",
    "        show(self.throughput)\n",
    "        show(self.latency)\n",
    "        show(self.count)\n",
    "        \n",
    "    def clear_output(self):\n",
    "        clear_output()\n",
    "\n",
    "        "
   ]
  },
  {
   "cell_type": "code",
   "execution_count": 16,
   "metadata": {
    "collapsed": false,
    "deletable": true,
    "editable": true,
    "extensions": {
     "jupyter_dashboards": {
      "version": 1,
      "views": {
       "grid_default": {
        "col": 0,
        "height": 112,
        "hidden": false,
        "row": 4,
        "width": 10
       },
       "report_default": {
        "hidden": false
       }
      }
     }
    },
    "scrolled": false
   },
   "outputs": [],
   "source": [
    "\n",
    "class AppGui(object):\n",
    "\n",
    "    def __init__(self):\n",
    "        self.plotlines=[]\n",
    "        self.baseDirs = self.getCsvDirectorys()\n",
    "        \n",
    "        self.add = widgets.Button(description='add', button_style='success', tooltip='add to plot')\n",
    "        self.add.on_click(self.onAdd)\n",
    "        display(self.add)\n",
    "\n",
    "        self.chart = widgets.Button(description='chart', button_style='success', tooltip='chart csv')\n",
    "        self.chart.on_click(self.onChart)\n",
    "        display(self.chart)\n",
    "\n",
    "        self.perfCharts = PerfCharts()\n",
    "        \n",
    "    def onAdd(self, change):\n",
    "        self.plotlines.append( plotLineInfo(self.baseDirs) )\n",
    "\n",
    "    \n",
    "    def onChart(self, change):\n",
    "        for plotline in self.plotlines:\n",
    "            self.perfCharts.chart(plotline)\n",
    "        self.perfCharts.clear_output()\n",
    "        self.perfCharts.show()\n",
    "           \n",
    "        \n",
    "    def getCsvDirectorys(self):\n",
    "        baseDirs = set()\n",
    "        for dirpath, dirnames, filenames in os.walk(\".\"):\n",
    "            for fileName in filenames:\n",
    "                if fileName.endswith(\".csv\"):\n",
    "                    relDir = os.path.relpath(dirpath, \".\")\n",
    "                    baseDirs.add(re.sub('[^/]*$', '', relDir))\n",
    "        return sorted(list(baseDirs))\n",
    "    \n",
    "    "
   ]
  },
  {
   "cell_type": "code",
   "execution_count": 17,
   "metadata": {
    "collapsed": false,
    "deletable": true,
    "editable": true,
    "extensions": {
     "jupyter_dashboards": {
      "version": 1,
      "views": {
       "grid_default": {
        "col": 0,
        "height": 32,
        "hidden": false,
        "row": 116,
        "width": 10
       },
       "report_default": {}
      }
     }
    }
   },
   "outputs": [
    {
     "data": {
      "application/vnd.jupyter.widget-view+json": {
       "model_id": "1797f277389449d3b8aaca340569f9b4"
      }
     },
     "metadata": {},
     "output_type": "display_data"
    },
    {
     "data": {
      "application/vnd.jupyter.widget-view+json": {
       "model_id": "1aafd0a5e30f431ca4ef4db890729408"
      }
     },
     "metadata": {},
     "output_type": "display_data"
    },
    {
     "data": {
      "text/plain": [
       "<__main__.AppGui at 0x10fb40668>"
      ]
     },
     "execution_count": 17,
     "metadata": {},
     "output_type": "execute_result"
    }
   ],
   "source": [
    "\n",
    "AppGui()"
   ]
  },
  {
   "cell_type": "code",
   "execution_count": 18,
   "metadata": {
    "collapsed": false,
    "deletable": true,
    "editable": true,
    "extensions": {
     "jupyter_dashboards": {
      "version": 1,
      "views": {
       "grid_default": {
        "col": 4,
        "height": 4,
        "hidden": false,
        "row": 0,
        "width": 4
       },
       "report_default": {
        "hidden": false
       }
      }
     }
    }
   },
   "outputs": [
    {
     "data": {
      "text/html": [
       "<style>.container { width:100% !important; }</style>"
      ],
      "text/plain": [
       "<IPython.core.display.HTML object>"
      ]
     },
     "metadata": {},
     "output_type": "display_data"
    }
   ],
   "source": [
    "from IPython.core.display import display, HTML\n",
    "display(HTML(\"<style>.container { width:100% !important; }</style>\"))"
   ]
  },
  {
   "cell_type": "code",
   "execution_count": null,
   "metadata": {
    "collapsed": true,
    "deletable": true,
    "editable": true,
    "extensions": {
     "jupyter_dashboards": {
      "version": 1,
      "views": {
       "grid_default": {
        "hidden": true
       },
       "report_default": {
        "hidden": true
       }
      }
     }
    }
   },
   "outputs": [],
   "source": []
  },
  {
   "cell_type": "code",
   "execution_count": null,
   "metadata": {
    "collapsed": true,
    "deletable": true,
    "editable": true,
    "extensions": {
     "jupyter_dashboards": {
      "version": 1,
      "views": {
       "grid_default": {
        "hidden": true
       },
       "report_default": {
        "hidden": true
       }
      }
     }
    }
   },
   "outputs": [],
   "source": []
  },
  {
   "cell_type": "code",
   "execution_count": null,
   "metadata": {
    "collapsed": true,
    "deletable": true,
    "editable": true,
    "extensions": {
     "jupyter_dashboards": {
      "version": 1,
      "views": {
       "grid_default": {
        "hidden": true
       },
       "report_default": {
        "hidden": true
       }
      }
     }
    }
   },
   "outputs": [],
   "source": []
  },
  {
   "cell_type": "code",
   "execution_count": null,
   "metadata": {
    "collapsed": true,
    "deletable": true,
    "editable": true,
    "extensions": {
     "jupyter_dashboards": {
      "version": 1,
      "views": {
       "grid_default": {
        "hidden": true
       },
       "report_default": {}
      }
     }
    }
   },
   "outputs": [],
   "source": []
  }
 ],
 "metadata": {
  "extensions": {
   "jupyter_dashboards": {
    "activeView": "grid_default",
    "version": 1,
    "views": {
     "grid_default": {
      "cellMargin": 10,
      "defaultCellHeight": 20,
      "maxColumns": 12,
      "name": "grid",
      "type": "grid"
     },
     "report_default": {
      "name": "report",
      "type": "report"
     }
    }
   }
  },
  "kernelspec": {
   "display_name": "Python 3",
   "language": "python",
   "name": "python3"
  },
  "language_info": {
   "codemirror_mode": {
    "name": "ipython",
    "version": 3
   },
   "file_extension": ".py",
   "mimetype": "text/x-python",
   "name": "python",
   "nbconvert_exporter": "python",
   "pygments_lexer": "ipython3",
   "version": "3.6.0"
  },
  "widgets": {
   "state": {
    "1687247a2a00484997d27a072b5830f5": {
     "views": [
      {
       "cell_index": 1
      }
     ]
    },
    "178d37f9a5084a6fa428c6bd0e24b0ce": {
     "views": [
      {
       "cell_index": 1
      }
     ]
    },
    "1a3e483724d1491e8d43975623bbd970": {
     "views": [
      {
       "cell_index": 1
      }
     ]
    },
    "214f2fc69e4f4935a8bc9ac4172eb3c0": {
     "views": [
      {
       "cell_index": 1
      }
     ]
    },
    "273d150bac8d4dfc98505ebf2537df4b": {
     "views": [
      {
       "cell_index": 1
      }
     ]
    },
    "2b4f09dd2fb646f8914572ff42285464": {
     "views": [
      {
       "cell_index": 1
      }
     ]
    },
    "3dc9608cc4d044c09f611d1d8f2c3061": {
     "views": [
      {
       "cell_index": 1
      }
     ]
    },
    "42d06764edd74573a571dc1c3cb5bc3b": {
     "views": [
      {
       "cell_index": 1
      }
     ]
    },
    "4562a61c1f854f21b01509f2fbdf4896": {
     "views": [
      {
       "cell_index": 1
      }
     ]
    },
    "4ac012d4ba224a5b9386f6fe557adf71": {
     "views": [
      {
       "cell_index": 1
      }
     ]
    },
    "4ae1de20f1504d76a5f3c5724d834739": {
     "views": [
      {
       "cell_index": 1
      }
     ]
    },
    "4f37ed4791004f5eb38104200ab62043": {
     "views": [
      {
       "cell_index": 1
      }
     ]
    },
    "5446efa9edcb46d1bbb841e8197d1b0f": {
     "views": [
      {
       "cell_index": 1
      }
     ]
    },
    "568db655f92e419e856e8ffcaf346787": {
     "views": [
      {
       "cell_index": 1
      }
     ]
    },
    "630cdcad60b54680b8ab216834ac34e6": {
     "views": [
      {
       "cell_index": 1
      }
     ]
    },
    "6bc5e81dc2c84664bbf34bec8755a73b": {
     "views": [
      {
       "cell_index": 1
      }
     ]
    },
    "6c163431f17a4e6eae9cb3e4b050163a": {
     "views": [
      {
       "cell_index": 1
      }
     ]
    },
    "758bfd92d88d415693823b08c55ca2b4": {
     "views": [
      {
       "cell_index": 1
      }
     ]
    },
    "7d4d7388176047ae95eda04f2311b4e1": {
     "views": [
      {
       "cell_index": 1
      }
     ]
    },
    "8a0823396b4645d1bb17622fbe57635d": {
     "views": [
      {
       "cell_index": 1
      }
     ]
    },
    "8ae502e858a04235852e9a1684e39cc9": {
     "views": [
      {
       "cell_index": 1
      }
     ]
    },
    "916373506a324bf8890ec64ca509f3a0": {
     "views": [
      {
       "cell_index": 1
      }
     ]
    },
    "9385879f356747f58895809c44584742": {
     "views": [
      {
       "cell_index": 1
      }
     ]
    },
    "966e42d1c5b24c99a3b0c2ac4a50a3d0": {
     "views": [
      {
       "cell_index": 1
      }
     ]
    },
    "9728f1167b774a79800f53c8b143085d": {
     "views": [
      {
       "cell_index": 1
      }
     ]
    },
    "99faa390c3374e599d5593331b660a2f": {
     "views": [
      {
       "cell_index": 1
      }
     ]
    },
    "a1bf72ec15c3455f9ec92a5772f7a836": {
     "views": [
      {
       "cell_index": 1
      }
     ]
    },
    "a4d2c3c1da8948caa7e7c2c4f40fb249": {
     "views": [
      {
       "cell_index": 1
      }
     ]
    },
    "a88571f31752490d8b9d58716aa8eb0a": {
     "views": [
      {
       "cell_index": 1
      }
     ]
    },
    "a9013b748fd349f6a576a819be5d8573": {
     "views": [
      {
       "cell_index": 1
      }
     ]
    },
    "aadab44db1204a07ba3bd62276ee7150": {
     "views": [
      {
       "cell_index": 1
      }
     ]
    },
    "b19f3bdb947b431c9ef98cf6118a2c5e": {
     "views": [
      {
       "cell_index": 1
      }
     ]
    },
    "ba6f699289b44ea59d08a07dfd37f296": {
     "views": [
      {
       "cell_index": 1
      }
     ]
    },
    "c34f975747ca41eabbbbe7976957a696": {
     "views": [
      {
       "cell_index": 1
      }
     ]
    },
    "c7916cf820034eaba1f8026220df8986": {
     "views": [
      {
       "cell_index": 1
      }
     ]
    },
    "cfb25d5fd50c4b5ca0ba7078e3a62d3d": {
     "views": [
      {
       "cell_index": 1
      }
     ]
    },
    "d26014e637824757b95adcdc31232b5d": {
     "views": [
      {
       "cell_index": 1
      }
     ]
    },
    "d6111503919d4056b2bfcafd2e43195a": {
     "views": [
      {
       "cell_index": 1
      }
     ]
    },
    "d85ec61586f4470bb4b984cd371a05f8": {
     "views": [
      {
       "cell_index": 1
      }
     ]
    },
    "dcc8a60717264aadba36ddea2d609660": {
     "views": [
      {
       "cell_index": 1
      }
     ]
    },
    "e1b5718ff2b749e5a5a047bb26d4520d": {
     "views": [
      {
       "cell_index": 1
      }
     ]
    },
    "eb746b26a3814711a69ccc5b86319cee": {
     "views": [
      {
       "cell_index": 1
      }
     ]
    },
    "ef907306a34a45b0bf9979634aa055fc": {
     "views": [
      {
       "cell_index": 1
      }
     ]
    },
    "f16df3e524b0462abf9a895ca38c2a59": {
     "views": [
      {
       "cell_index": 1
      }
     ]
    },
    "f892d0bf23a3478a82fbcb9f0f67bae9": {
     "views": [
      {
       "cell_index": 1
      }
     ]
    },
    "fa58923140f2477ea035255d8d41c75a": {
     "views": [
      {
       "cell_index": 1
      }
     ]
    },
    "fe582888a0be45a89b491c4247422e15": {
     "views": [
      {
       "cell_index": 1
      }
     ]
    }
   },
   "version": "1.2.0"
  }
 },
 "nbformat": 4,
 "nbformat_minor": 0
}
